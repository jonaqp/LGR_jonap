{
 "cells": [
  {
   "cell_type": "code",
   "execution_count": null,
   "metadata": {},
   "outputs": [],
   "source": []
  },
  {
   "cell_type": "code",
   "execution_count": 2,
   "metadata": {},
   "outputs": [],
   "source": [
    "from pyspark.sql import SparkSession\n",
    "from pyspark.sql import functions as F\n",
    "from pyspark.sql.types import *\n",
    "import numpy as np\n",
    "from pyspark.ml import Pipeline\n",
    "import matplotlib.pyplot as plt\n",
    "from pyspark.ml.feature import VectorAssembler,StringIndexer\n",
    "from pyspark.ml.classification import LogisticRegression\n",
    "from pyspark.ml.evaluation import BinaryClassificationEvaluator\n",
    "from pyspark.mllib.evaluation import MulticlassMetrics\n",
    "from pyspark.ml.tuning import ParamGridBuilder, CrossValidator"
   ]
  },
  {
   "cell_type": "code",
   "execution_count": 3,
   "metadata": {},
   "outputs": [],
   "source": [
    "spark = SparkSession.builder.appName('APP_LOGISTIC_REGRESSION').getOrCreate()\n",
    "data_train = spark.read.format(\"com.databricks.spark.csv\")\\\n",
    "    .option(\"header\", \"true\")\\\n",
    "    .load(\"gs://ds-data/lg.csv\")\n",
    "\n",
    "data_test = spark.read.format(\"com.databricks.spark.csv\")\\\n",
    "    .option(\"header\", \"true\")\\\n",
    "    .load(\"gs://ds-data/notebooks/jonap/data/prueba.csv\")"
   ]
  },
  {
   "cell_type": "code",
   "execution_count": null,
   "metadata": {},
   "outputs": [],
   "source": []
  },
  {
   "cell_type": "code",
   "execution_count": 4,
   "metadata": {},
   "outputs": [],
   "source": [
    "def print_metrics(predictions_and_labels):\n",
    "    metrics = MulticlassMetrics(predictions_and_labels)\n",
    "    accuracy = metrics.accuracy\n",
    "    print(\"Summary Stats\")\n",
    "    print(\"Accuracy = %s\" % accuracy)\n",
    "    print('Confusion Matrix\\n', metrics.confusionMatrix()) "
   ]
  },
  {
   "cell_type": "code",
   "execution_count": null,
   "metadata": {},
   "outputs": [],
   "source": []
  },
  {
   "cell_type": "code",
   "execution_count": 12,
   "metadata": {},
   "outputs": [],
   "source": [
    "def df_train(df):\n",
    "    df_rows = df.select(\n",
    "        df.id_pasajero,\n",
    "        df.manana.cast(\"Double\"),\n",
    "        df.noche.cast(\"Double\"), \n",
    "        df.tarde.cast(\"Double\"), \n",
    "        df.juerga.cast(\"Double\"),\n",
    "        df.semana.cast(\"Double\"), \n",
    "        df.fin_de_semana.cast(\"Double\"),\n",
    "        df.monto.cast(\"Double\"),\n",
    "        df.distancia.cast(\"Double\"),\n",
    "        df.tiempo_entre_viajes.cast(\"Double\"),\n",
    "        df.desviaciones_rutas.cast(\"Double\"), \n",
    "        df.desviaciones_horarios.cast(\"Double\"), \n",
    "        df.desviaciones_dias_semana.cast(\"Double\"),  \n",
    "        df.forma_uso.cast(\"Integer\").alias(\"label\")\n",
    "    )\n",
    "    #data selections\n",
    "    feature_columns = df_rows.columns[1:-1]\n",
    "    \n",
    "    #data preparations\n",
    "    assembler = VectorAssembler(inputCols=feature_columns, outputCol='features')\n",
    "    stages = [assembler]\n",
    "    label_stringIdx = StringIndexer(inputCol= 'label', outputCol='label_index')\n",
    "    stages += [label_stringIdx]\n",
    "    \n",
    "    #data pipeline\n",
    "    pipeline = Pipeline(stages=stages)\n",
    "    pipelineModel = pipeline.fit(df_rows)\n",
    "    df_features = pipelineModel.transform(df_rows)\n",
    "    \n",
    "    #data partitions\n",
    "    (trainingData, testData) = df_features.randomSplit([0.8, 0.2])\n",
    "    \n",
    "    #data models\n",
    "    Classifier= LogisticRegression(labelCol=\"label_index\", featuresCol=\"features\")\n",
    "    model = Classifier.fit(trainingData)\n",
    "    \n",
    "    #data test\n",
    "    predictions = model.transform(testData)\n",
    "    \n",
    "    # Evaluate model\n",
    "    evaluator = BinaryClassificationEvaluator(rawPredictionCol=\"rawPrediction\", \n",
    "                                              labelCol='label_index')\n",
    "    accuracy = evaluator.evaluate(predictions)\n",
    "    print('F1 Accuracy: %f' % accuracy)\n",
    "    paramGrid = (ParamGridBuilder()\n",
    "                 .addGrid(Classifier.regParam, [0.1, 0.01])\n",
    "                 .addGrid(Classifier.elasticNetParam, [0.0, 0.5, 1.0])\n",
    "                 .addGrid(Classifier.maxIter, [1, 10, 100])\n",
    "                 .build())\n",
    "\n",
    "     # Create 5-fold CrossValidator\n",
    "    crosval = CrossValidator(estimator=Classifier, estimatorParamMaps=paramGrid, \n",
    "                             evaluator=evaluator, numFolds=5)\n",
    "    crosval_Model = crosval.fit(trainingData)\n",
    "    crosval_predictions = crosval_Model.transform(testData)\n",
    "    crosval_accuracy = crosval_Model.getEvaluator().evaluate(crosval_predictions)\n",
    "    print('F1 Accuracy crossval: %f' % crosval_accuracy)\n",
    "    predictions_and_labels = crosval_predictions.select(\"prediction\", \"label_index\").rdd.map(lambda r: (float(r[0]), float(r[1])))\n",
    "    print_metrics(predictions_and_labels)\n",
    "    return crosval_Model\n",
    "    "
   ]
  },
  {
   "cell_type": "code",
   "execution_count": 16,
   "metadata": {},
   "outputs": [],
   "source": [
    "def df_test(model, df):\n",
    "    df_rows = df.select(\n",
    "        df.id_pasajero,\n",
    "        df.manana.cast(\"Double\"),\n",
    "        df.noche.cast(\"Double\"), \n",
    "        df.tarde.cast(\"Double\"), \n",
    "        df.juerga.cast(\"Double\"),\n",
    "        df.semana.cast(\"Double\"), \n",
    "        df.fin_de_semana.cast(\"Double\"),\n",
    "        df.monto.cast(\"Double\"),\n",
    "        df.distancia.cast(\"Double\"),\n",
    "        df.tiempo_entre_viajes.cast(\"Double\"),\n",
    "        df.desviaciones_rutas.cast(\"Double\"), \n",
    "        df.desviaciones_horarios.cast(\"Double\"), \n",
    "        df.desviaciones_dias_semana.cast(\"Double\")\n",
    "    )\n",
    "    #data selections\n",
    "    feature_columns = df_rows.columns[1:]\n",
    "    \n",
    "    #data preparationsg\n",
    "    assembler = VectorAssembler(inputCols=feature_columns, outputCol='features')\n",
    "    stages = [assembler]\n",
    "    \n",
    "    #data pipeline\n",
    "    pipeline = Pipeline(stages=stages)\n",
    "    pipelineModel = pipeline.fit(df_rows)\n",
    "    df_features = pipelineModel.transform(df_rows)\n",
    "    \n",
    "    #adding columns empty\n",
    "    df_features = df_features.withColumn('label_index', F.lit(None).cast(IntegerType()))\n",
    "    \n",
    "    #data partitions\n",
    "    testData = df_features\n",
    "    \n",
    "    #data predictions\n",
    "    predictions = model.transform(testData)\n",
    "    return predictions"
   ]
  },
  {
   "cell_type": "code",
   "execution_count": 14,
   "metadata": {},
   "outputs": [
    {
     "name": "stdout",
     "output_type": "stream",
     "text": [
      "F1 Accuracy: 0.766211\n",
      "F1 Accuracy crossval: 0.760960\n",
      "Summary Stats\n",
      "Accuracy = 0.6777041942604857\n",
      "Confusion Matrix\n",
      " DenseMatrix([[ 210.,   25.],\n",
      "             [ 121.,   97.]])\n"
     ]
    }
   ],
   "source": [
    "model = df_train(data_train)"
   ]
  },
  {
   "cell_type": "code",
   "execution_count": 17,
   "metadata": {},
   "outputs": [],
   "source": [
    "result = df_test(model, data_test)"
   ]
  },
  {
   "cell_type": "code",
   "execution_count": 19,
   "metadata": {},
   "outputs": [
    {
     "data": {
      "text/html": [
       "<div>\n",
       "<style>\n",
       "    .dataframe thead tr:only-child th {\n",
       "        text-align: right;\n",
       "    }\n",
       "\n",
       "    .dataframe thead th {\n",
       "        text-align: left;\n",
       "    }\n",
       "\n",
       "    .dataframe tbody tr th {\n",
       "        vertical-align: top;\n",
       "    }\n",
       "</style>\n",
       "<table border=\"1\" class=\"dataframe\">\n",
       "  <thead>\n",
       "    <tr style=\"text-align: right;\">\n",
       "      <th></th>\n",
       "      <th>id_pasajero</th>\n",
       "      <th>rawPrediction</th>\n",
       "      <th>probability</th>\n",
       "      <th>prediction</th>\n",
       "    </tr>\n",
       "  </thead>\n",
       "  <tbody>\n",
       "    <tr>\n",
       "      <th>0</th>\n",
       "      <td>57eebdf58349d848478bfddc</td>\n",
       "      <td>[-2.50135794925, 2.50135794925]</td>\n",
       "      <td>[0.0757630375449, 0.924236962455]</td>\n",
       "      <td>1.0</td>\n",
       "    </tr>\n",
       "    <tr>\n",
       "      <th>1</th>\n",
       "      <td>582bd95622178d495e8b456c</td>\n",
       "      <td>[-1.334025444, 1.334025444]</td>\n",
       "      <td>[0.208494289121, 0.791505710879]</td>\n",
       "      <td>1.0</td>\n",
       "    </tr>\n",
       "    <tr>\n",
       "      <th>2</th>\n",
       "      <td>5579b13aa27819787b8b4568</td>\n",
       "      <td>[0.418254219026, -0.418254219026]</td>\n",
       "      <td>[0.603065424433, 0.396934575567]</td>\n",
       "      <td>0.0</td>\n",
       "    </tr>\n",
       "    <tr>\n",
       "      <th>3</th>\n",
       "      <td>578f76360fa0c02a7f8b4569</td>\n",
       "      <td>[0.185269709921, -0.185269709921]</td>\n",
       "      <td>[0.546185394043, 0.453814605957]</td>\n",
       "      <td>0.0</td>\n",
       "    </tr>\n",
       "    <tr>\n",
       "      <th>4</th>\n",
       "      <td>52ebc5578078191d77000000</td>\n",
       "      <td>[0.195023056856, -0.195023056856]</td>\n",
       "      <td>[0.54860181834, 0.45139818166]</td>\n",
       "      <td>0.0</td>\n",
       "    </tr>\n",
       "  </tbody>\n",
       "</table>\n",
       "</div>"
      ],
      "text/plain": [
       "                id_pasajero                      rawPrediction  \\\n",
       "0  57eebdf58349d848478bfddc    [-2.50135794925, 2.50135794925]   \n",
       "1  582bd95622178d495e8b456c        [-1.334025444, 1.334025444]   \n",
       "2  5579b13aa27819787b8b4568  [0.418254219026, -0.418254219026]   \n",
       "3  578f76360fa0c02a7f8b4569  [0.185269709921, -0.185269709921]   \n",
       "4  52ebc5578078191d77000000  [0.195023056856, -0.195023056856]   \n",
       "\n",
       "                         probability  prediction  \n",
       "0  [0.0757630375449, 0.924236962455]         1.0  \n",
       "1   [0.208494289121, 0.791505710879]         1.0  \n",
       "2   [0.603065424433, 0.396934575567]         0.0  \n",
       "3   [0.546185394043, 0.453814605957]         0.0  \n",
       "4     [0.54860181834, 0.45139818166]         0.0  "
      ]
     },
     "execution_count": 19,
     "metadata": {},
     "output_type": "execute_result"
    }
   ],
   "source": [
    "result.select(\"id_pasajero\", \"rawPrediction\",\"probability\",\"prediction\").toPandas()"
   ]
  },
  {
   "cell_type": "code",
   "execution_count": null,
   "metadata": {},
   "outputs": [],
   "source": []
  },
  {
   "cell_type": "code",
   "execution_count": null,
   "metadata": {},
   "outputs": [],
   "source": []
  },
  {
   "cell_type": "code",
   "execution_count": null,
   "metadata": {},
   "outputs": [],
   "source": []
  },
  {
   "cell_type": "code",
   "execution_count": null,
   "metadata": {},
   "outputs": [],
   "source": []
  },
  {
   "cell_type": "code",
   "execution_count": null,
   "metadata": {},
   "outputs": [],
   "source": []
  },
  {
   "cell_type": "code",
   "execution_count": null,
   "metadata": {},
   "outputs": [],
   "source": []
  }
 ],
 "metadata": {
  "kernelspec": {
   "display_name": "PySpark",
   "language": "python",
   "name": "pyspark"
  },
  "language_info": {
   "codemirror_mode": {
    "name": "ipython",
    "version": 3
   },
   "file_extension": ".py",
   "mimetype": "text/x-python",
   "name": "python",
   "nbconvert_exporter": "python",
   "pygments_lexer": "ipython3",
   "version": "3.5.2"
  }
 },
 "nbformat": 4,
 "nbformat_minor": 2
}